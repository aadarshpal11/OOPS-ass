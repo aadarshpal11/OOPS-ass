{
 "cells": [
  {
   "cell_type": "markdown",
   "id": "71ffe0ca-0a7e-4676-b536-2ccacc701309",
   "metadata": {},
   "source": [
    "1. What are the five key concepts of Object-Oriented Programming (OOP)?"
   ]
  },
  {
   "cell_type": "code",
   "execution_count": 1,
   "id": "e6449770-5495-45d6-a36b-ccac34efba93",
   "metadata": {},
   "outputs": [],
   "source": [
    "#The five key concepts of Object-Oriented Programming (OOP) are:\n",
    "\n",
    "#Encapsulation: Bundling data (attributes) and methods (functions) that operate on the data into a single unit, typically a class. \n",
    "#Encapsulation helps in restricting direct access to some of an object’s components, providing controlled access through public methods.\n",
    "\n",
    "#Abstraction: Simplifying complex systems by providing a more abstract interface that hides the implementation details. \n",
    "#Only essential information is presented to the user, while unnecessary complexities are hidden.\n",
    "\n",
    "#Inheritance: A mechanism by which a new class, known as a subclass or derived class, inherits properties and behaviors (methods) from an existing class, called the base or parent class. \n",
    "#This allows code reuse and the creation of a hierarchical relationship between classes.\n",
    "\n",
    "#Polymorphism: The ability to present the same interface for different data types or class instances. \n",
    "#It allows objects of different classes to be treated as objects of a common superclass.\n",
    "\n",
    "#Class and Object: A class is a blueprint for creating objects (instances). Objects are instances of classes that contain both data (attributes) and \n",
    "#methods (functions). The class defines the structure, while objects represent actual instances of that class."
   ]
  },
  {
   "cell_type": "markdown",
   "id": "d6d80567-ffa6-4f30-ae7d-bafc67dd0192",
   "metadata": {},
   "source": [
    " 2. Write a Python class for a `Car` with attributes for `make`, `model`, and `year`. Include a method to display \n",
    "the car's information."
   ]
  },
  {
   "cell_type": "code",
   "execution_count": 2,
   "id": "d02bd05a-66d0-48e0-b708-91969cbc3b63",
   "metadata": {},
   "outputs": [],
   "source": [
    "class Car:\n",
    "    def __init__(self, make, model, year):\n",
    "        self.make = make\n",
    "        self.model = model\n",
    "        self.year = year\n",
    "\n",
    "    def display_info(self):\n",
    "        print(f\"Car Information: {self.year} {self.make} {self.model}\")"
   ]
  },
  {
   "cell_type": "markdown",
   "id": "d125d639-e96a-4b12-ad67-e115a748f72b",
   "metadata": {},
   "source": [
    "3. Explain the difference between instance methods and class methods. Provide an example of each."
   ]
  },
  {
   "cell_type": "code",
   "execution_count": 5,
   "id": "4372f900-eb85-4f15-be86-cc56901c14eb",
   "metadata": {},
   "outputs": [
    {
     "name": "stdout",
     "output_type": "stream",
     "text": [
      "Car Info: 2021 Toyota Camry\n",
      "Total Cars: 2\n"
     ]
    }
   ],
   "source": [
    "#Instance Methods\n",
    "#Definition: An instance method operates on an instance of a class and can access and modify the instance’s attributes. \n",
    "#The first parameter of an instance method is always self, which refers to the specific instance of the class.\n",
    "#Use: These methods can read or modify the object’s state (instance variables).\n",
    "\n",
    "\n",
    "#Class Methods\n",
    "#Definition: A class method operates on the class itself rather than on instances of the class. \n",
    "#It is defined using the @classmethod decorator. The first parameter of a class method is cls, which refers to the class itself.\n",
    "#Use: Class methods can access class variables or methods, but they can't modify instance-specific data unless passed as an argument.\n",
    "\n",
    "class Car:\n",
    "    total_cars = 0\n",
    "\n",
    "    def __init__(self, make, model, year):\n",
    "        self.make = make\n",
    "        self.model = model\n",
    "        self.year = year\n",
    "        Car.total_cars += 1\n",
    "# Instance method\n",
    "    def display_info(self):\n",
    "        print(f\"Car Info: {self.year} {self.make} {self.model}\")\n",
    "\n",
    "# Class method\n",
    "    @classmethod\n",
    "    def display_total_cars(cls):\n",
    "        print(f\"Total Cars: {cls.total_cars}\")\n",
    "\n",
    "# Example\n",
    "car1 = Car(\"Toyota\", \"Camry\", 2021)\n",
    "car2 = Car(\"Honda\", \"Civic\", 2022)\n",
    "\n",
    "# Calling the instance method\n",
    "car1.display_info()  \n",
    "\n",
    "# Calling the class method\n",
    "Car.display_total_cars() \n"
   ]
  },
  {
   "cell_type": "markdown",
   "id": "eedee925-149b-4491-b9ec-17435f484290",
   "metadata": {},
   "source": [
    " 4. How does Python implement method overloading? Give an example."
   ]
  },
  {
   "cell_type": "code",
   "execution_count": 7,
   "id": "58c4e548-3717-4ebf-8c1e-d32acb1c046c",
   "metadata": {},
   "outputs": [
    {
     "name": "stdout",
     "output_type": "stream",
     "text": [
      "5\n",
      "15\n",
      "30\n"
     ]
    }
   ],
   "source": [
    "#In Python, when you define multiple methods with the same name, the last defined method will override the others.\n",
    "\n",
    "class Calculator:\n",
    "    def add(self, *args):\n",
    "        return sum(args)\n",
    "\n",
    "# Example\n",
    "calc = Calculator()\n",
    "\n",
    "print(calc.add(5))             \n",
    "print(calc.add(5, 10))         \n",
    "print(calc.add(5, 10, 15))   "
   ]
  },
  {
   "cell_type": "markdown",
   "id": "8c875015-3e96-44db-a980-e94107b3a024",
   "metadata": {},
   "source": [
    " 5. What are the three types of access modifiers in Python? How are they denoted?"
   ]
  },
  {
   "cell_type": "code",
   "execution_count": 8,
   "id": "da1d5f50-1ca1-49ef-a397-432be90ca668",
   "metadata": {},
   "outputs": [
    {
     "name": "stdout",
     "output_type": "stream",
     "text": [
      "Toyota\n",
      "Toyota Camry\n"
     ]
    }
   ],
   "source": [
    "#1. Public\n",
    "#Public members are accessible from anywhere, both inside and outside the class.\n",
    "#Denotation: No underscore prefix is used.\n",
    "\n",
    "class Car:\n",
    "    def __init__(self, make, model):\n",
    "        self.make = make  \n",
    "        self.model = model\n",
    "    \n",
    "    def display_info(self):  \n",
    "        print(f\"{self.make} {self.model}\")\n",
    "\n",
    "car = Car(\"Toyota\", \"Camry\")\n",
    "print(car.make)  \n",
    "car.display_info() "
   ]
  },
  {
   "cell_type": "code",
   "execution_count": 9,
   "id": "7fcc80c6-44e5-4a60-87f6-30239bc008aa",
   "metadata": {},
   "outputs": [
    {
     "name": "stdout",
     "output_type": "stream",
     "text": [
      "Honda\n",
      "Honda Civic\n"
     ]
    }
   ],
   "source": [
    "#2. Protected\n",
    "#Protected members are intended to be accessible only within the class and its subclasses.\n",
    "#A single underscore _ prefix is used.\n",
    "\n",
    "class Car:\n",
    "    def __init__(self, make, model):\n",
    "        self._make = make  \n",
    "        self._model = model  \n",
    "    \n",
    "    def _display_info(self):  \n",
    "        print(f\"{self._make} {self._model}\")\n",
    "\n",
    "car = Car(\"Honda\", \"Civic\")\n",
    "print(car._make) \n",
    "car._display_info() "
   ]
  },
  {
   "cell_type": "code",
   "execution_count": 11,
   "id": "aa230644-b6f5-4187-b012-e7b7a2dbdfb5",
   "metadata": {},
   "outputs": [
    {
     "name": "stdout",
     "output_type": "stream",
     "text": [
      "Ford\n",
      "Ford Mustang\n"
     ]
    }
   ],
   "source": [
    "#3. Private\n",
    "#Private members are intended to be inaccessible outside the class, including in subclasses.\n",
    "#A double underscore __ prefix is used.\n",
    "\n",
    "class Car:\n",
    "    def __init__(self, make, model):\n",
    "        self.__make = make  \n",
    "        self.__model = model  \n",
    "    \n",
    "    def __display_info(self): \n",
    "        print(f\"{self.__make} {self.__model}\")\n",
    "\n",
    "car = Car(\"Ford\", \"Mustang\")\n",
    "print(car._Car__make)  \n",
    "car._Car__display_info()  "
   ]
  },
  {
   "cell_type": "markdown",
   "id": "31074079-5f9f-4ec8-b650-d711a5afe224",
   "metadata": {},
   "source": [
    " 6. Describe the five types of inheritance in Python. Provide a simple example of multiple inheritance."
   ]
  },
  {
   "cell_type": "code",
   "execution_count": 12,
   "id": "f143f964-b374-43ed-b128-15b601929253",
   "metadata": {},
   "outputs": [
    {
     "name": "stdout",
     "output_type": "stream",
     "text": [
      "Parent1 class\n",
      "Parent2 class\n"
     ]
    }
   ],
   "source": [
    "#Single Inheritance:A child class inherits from one parent class.\n",
    "\n",
    "#Multiple Inheritance:A child class inherits from more than one parent class.\n",
    "\n",
    "class Parent1:\n",
    "    def show(self):\n",
    "        print(\"Parent1 class\")\n",
    "\n",
    "class Parent2:\n",
    "    def display(self):\n",
    "        print(\"Parent2 class\")\n",
    "\n",
    "class Child(Parent1, Parent2):\n",
    "    pass\n",
    "\n",
    "child = Child()\n",
    "child.show()    \n",
    "child.display() \n",
    "\n",
    "#Multilevel Inheritance:A child class inherits from a parent class, which in turn inherits from another parent class, \n",
    "#forming a chain of inheritance.\n",
    "\n",
    "#Hierarchical Inheritance:Multiple child classes inherit from a single parent class.\n",
    "\n",
    "#Hybrid Inheritance:A combination of two or more types of inheritance (e.g., combination of multiple and hierarchical inheritance)."
   ]
  },
  {
   "cell_type": "markdown",
   "id": "075b6282-9dbb-49cd-bf50-a8da6681e411",
   "metadata": {},
   "source": [
    " 7. What is the Method Resolution Order (MRO) in Python? How can you retrieve it programmatically?"
   ]
  },
  {
   "cell_type": "code",
   "execution_count": 14,
   "id": "06e6dc12-ba6a-4f80-a0bb-f93c3a03f48f",
   "metadata": {},
   "outputs": [
    {
     "name": "stdout",
     "output_type": "stream",
     "text": [
      "(<class '__main__.D'>, <class '__main__.B'>, <class '__main__.C'>, <class '__main__.A'>, <class 'object'>)\n",
      "[<class '__main__.D'>, <class '__main__.B'>, <class '__main__.C'>, <class '__main__.A'>, <class 'object'>]\n"
     ]
    }
   ],
   "source": [
    "#The Method Resolution Order (MRO) defines the order in which Python looks for methods and attributes in a class hierarchy. \n",
    "#It is particularly important in cases of multiple inheritance, where a class may inherit from more than one parent class. \n",
    "#Python uses MRO to determine which method or attribute to execute when there are multiple classes involved in the inheritance chain.\n",
    "\n",
    "#You can retrieve the MRO of a class in two ways:\n",
    "\n",
    "#1.Using the __mro__ attribute.\n",
    "#2.Using the mro() method.\n",
    "\n",
    "class A:\n",
    "    def show(self):\n",
    "        print(\"Class A\")\n",
    "\n",
    "class B(A):\n",
    "    def show(self):\n",
    "        print(\"Class B\")\n",
    "\n",
    "class C(A):\n",
    "    def show(self):\n",
    "        print(\"Class C\")\n",
    "\n",
    "class D(B, C):\n",
    "    pass\n",
    "\n",
    "print(D.__mro__)\n",
    "print(D.mro())"
   ]
  },
  {
   "cell_type": "markdown",
   "id": "edd0f86b-9367-43ef-80b6-676b2bb4bce0",
   "metadata": {},
   "source": [
    "8. Create an abstract base class `Shape` with an abstract method `area()`. Then create two subclasses \n",
    "`Circle` and `Rectangle` that implement the `area()` method."
   ]
  },
  {
   "cell_type": "code",
   "execution_count": 15,
   "id": "2a1184e5-02fd-4924-bac6-4cc2230d982b",
   "metadata": {},
   "outputs": [
    {
     "name": "stdout",
     "output_type": "stream",
     "text": [
      "Circle area: 78.53981633974483\n",
      "Rectangle area: 24\n"
     ]
    }
   ],
   "source": [
    "from abc import ABC, abstractmethod\n",
    "import math\n",
    "\n",
    "class Shape(ABC):\n",
    "    \n",
    "    @abstractmethod\n",
    "    def area(self):\n",
    "        pass\n",
    "\n",
    "class Circle(Shape):\n",
    "    def __init__(self, radius):\n",
    "        self.radius = radius\n",
    "    \n",
    "    def area(self):\n",
    "        return math.pi * self.radius ** 2\n",
    "class Rectangle(Shape):\n",
    "    def __init__(self, width, height):\n",
    "        self.width = width\n",
    "        self.height = height\n",
    "    \n",
    "    def area(self):\n",
    "        return self.width * self.height\n",
    "\n",
    "# Example\n",
    "circle = Circle(5)\n",
    "rectangle = Rectangle(4, 6)\n",
    "\n",
    "print(f\"Circle area: {circle.area()}\")       \n",
    "print(f\"Rectangle area: {rectangle.area()}\") "
   ]
  },
  {
   "cell_type": "markdown",
   "id": "2b068436-823a-40af-b84b-040973bcac00",
   "metadata": {},
   "source": [
    " 9. Demonstrate polymorphism by creating a function that can work with different shape objects to calculate \n",
    "and print their areas."
   ]
  },
  {
   "cell_type": "code",
   "execution_count": 16,
   "id": "00347a27-90ef-4c93-9432-a018d9b43234",
   "metadata": {},
   "outputs": [
    {
     "name": "stdout",
     "output_type": "stream",
     "text": [
      "The area is: 78.53981633974483\n",
      "The area is: 24\n",
      "The area is: 6.0\n"
     ]
    }
   ],
   "source": [
    "class Shape(ABC):\n",
    "    \n",
    "    @abstractmethod\n",
    "    def area(self):\n",
    "        pass\n",
    "    \n",
    "class Circle(Shape):\n",
    "    def __init__(self, radius):\n",
    "        self.radius = radius\n",
    "    \n",
    "    def area(self):\n",
    "        return math.pi * self.radius ** 2\n",
    "\n",
    "\n",
    "class Rectangle(Shape):\n",
    "    def __init__(self, width, height):\n",
    "        self.width = width\n",
    "        self.height = height\n",
    "    \n",
    "    def area(self):\n",
    "        return self.width * self.height\n",
    "\n",
    "class Triangle(Shape):\n",
    "    def __init__(self, base, height):\n",
    "        self.base = base\n",
    "        self.height = height\n",
    "    \n",
    "    def area(self):\n",
    "        return 0.5 * self.base * self.height\n",
    "\n",
    "def print_area(shape):\n",
    "    print(f\"The area is: {shape.area()}\")\n",
    "\n",
    "# Example \n",
    "circle = Circle(5)\n",
    "rectangle = Rectangle(4, 6)\n",
    "triangle = Triangle(3, 4)\n",
    "\n",
    "print_area(circle)     \n",
    "print_area(rectangle)   \n",
    "print_area(triangle)    "
   ]
  },
  {
   "cell_type": "markdown",
   "id": "44257e5d-0e4f-4d19-ba16-33c6f629c4f7",
   "metadata": {},
   "source": [
    "10. Implement encapsulation in a `BankAccount` class with private attributes for `balance` and \n",
    "`account_number`. Include methods for deposit, withdrawal, and balance inquiry."
   ]
  },
  {
   "cell_type": "code",
   "execution_count": 17,
   "id": "643de107-adae-4233-9072-a47ca5500957",
   "metadata": {},
   "outputs": [
    {
     "name": "stdout",
     "output_type": "stream",
     "text": [
      "Deposited 500. New balance: 1500\n",
      "Withdrew 200. New balance: 1300\n",
      "1300\n",
      "123456789\n"
     ]
    }
   ],
   "source": [
    "class BankAccount:\n",
    "    def __init__(self, account_number, initial_balance=0):\n",
    "        self.__account_number = account_number  \n",
    "        self.__balance = initial_balance        \n",
    "\n",
    "    #deposit money\n",
    "    def deposit(self, amount):\n",
    "        if amount > 0:\n",
    "            self.__balance += amount\n",
    "            print(f\"Deposited {amount}. New balance: {self.__balance}\")\n",
    "        else:\n",
    "            print(\"Deposit amount must be positive\")\n",
    "\n",
    "    #withdraw money\n",
    "    def withdraw(self, amount):\n",
    "        if amount > self.__balance:\n",
    "            print(f\"Insufficient funds! Current balance: {self.__balance}\")\n",
    "        elif amount > 0:\n",
    "            self.__balance -= amount\n",
    "            print(f\"Withdrew {amount}. New balance: {self.__balance}\")\n",
    "        else:\n",
    "            print(\"Withdrawal amount must be positive\")\n",
    "\n",
    "    #check balance\n",
    "    def get_balance(self):\n",
    "        return self.__balance\n",
    "\n",
    "    #get account number\n",
    "    def get_account_number(self):\n",
    "        return self.__account_number\n",
    "\n",
    "# Example \n",
    "account = BankAccount(\"123456789\", 1000)\n",
    "\n",
    "account.deposit(500)         \n",
    "account.withdraw(200)        \n",
    "print(account.get_balance()) \n",
    "print(account.get_account_number())"
   ]
  },
  {
   "cell_type": "markdown",
   "id": "7221e1f6-9b11-4a81-b66c-b60a6250c2d7",
   "metadata": {},
   "source": [
    " 11. Write a class that overrides the `__str__` and `__add__` magic methods. What will these methods allow \n",
    "you to do?"
   ]
  },
  {
   "cell_type": "code",
   "execution_count": 18,
   "id": "3367bd37-c3fb-4673-98a1-bd304506e8c0",
   "metadata": {},
   "outputs": [
    {
     "name": "stdout",
     "output_type": "stream",
     "text": [
      "MyNumber(10)\n",
      "MyNumber(30)\n"
     ]
    }
   ],
   "source": [
    "class MyNumber:\n",
    "    def __init__(self, value):\n",
    "        self.value = value\n",
    "\n",
    "    def __str__(self):\n",
    "        return f\"MyNumber({self.value})\"\n",
    "\n",
    "    def __add__(self, other):\n",
    "        if isinstance(other, MyNumber):\n",
    "            return MyNumber(self.value + other.value)\n",
    "        return NotImplemented\n",
    "\n",
    "# Ex:\n",
    "num1 = MyNumber(10)\n",
    "num2 = MyNumber(20)\n",
    "\n",
    "print(str(num1))         \n",
    "print(num1 + num2)      "
   ]
  },
  {
   "cell_type": "markdown",
   "id": "8cd30493-e322-4eee-9312-f02ecb9daee0",
   "metadata": {},
   "source": [
    " 12. Create a decorator that measures and prints the execution time of a function."
   ]
  },
  {
   "cell_type": "code",
   "execution_count": 19,
   "id": "470af0fb-dda8-4808-a315-fadc53d57883",
   "metadata": {},
   "outputs": [
    {
     "name": "stdout",
     "output_type": "stream",
     "text": [
      "Execution time of example_function: 0.0685 seconds\n"
     ]
    },
    {
     "data": {
      "text/plain": [
       "499999500000"
      ]
     },
     "execution_count": 19,
     "metadata": {},
     "output_type": "execute_result"
    }
   ],
   "source": [
    "import time\n",
    "\n",
    "def timing_decorator(func):\n",
    "    def wrapper(*args, **kwargs):\n",
    "        start_time = time.time()\n",
    "        result = func(*args, **kwargs)\n",
    "        end_time = time.time()\n",
    "        execution_time = end_time - start_time\n",
    "        print(f\"Execution time of {func.__name__}: {execution_time:.4f} seconds\")\n",
    "        return result\n",
    "    return wrapper\n",
    "\n",
    "# Example:\n",
    "@timing_decorator\n",
    "def example_function(n):\n",
    "    total = 0\n",
    "    for i in range(n):\n",
    "        total += i\n",
    "    return total\n",
    "\n",
    "example_function(1000000)"
   ]
  },
  {
   "cell_type": "markdown",
   "id": "d37ccf0a-92e5-4a26-8ffe-76b8048ad0a2",
   "metadata": {},
   "source": [
    "13. Explain the concept of the Diamond Problem in multiple inheritance. How does Python resolve it?"
   ]
  },
  {
   "cell_type": "code",
   "execution_count": 20,
   "id": "d9b7c2d4-246c-44b9-a141-8828009168b0",
   "metadata": {},
   "outputs": [
    {
     "name": "stdout",
     "output_type": "stream",
     "text": [
      "A's constructor\n",
      "C's constructor\n",
      "B's constructor\n",
      "D's constructor\n",
      "Hello from A\n"
     ]
    }
   ],
   "source": [
    "#Diamond problem occured when a class inherit from 2 or more that 2 class\n",
    "#will lead to ambiguity in execution of method.\n",
    "\n",
    "#To resolve:\n",
    "#python uses MRO algorithm called C3 linearization\n",
    "#meaning that the class that is inherited first in the derived class,that method will be called\n",
    "\n",
    "class A:\n",
    "    def __init__(self):\n",
    "        print(\"A's constructor\")\n",
    "\n",
    "    def hello(self):\n",
    "        print(\"Hello from A\")\n",
    "\n",
    "class B(A):\n",
    "    def __init__(self):\n",
    "        super().__init__()\n",
    "        print(\"B's constructor\")\n",
    "\n",
    "class C(A):\n",
    "    def __init__(self):\n",
    "        super().__init__()\n",
    "        print(\"C's constructor\")\n",
    "\n",
    "class D(B, C):\n",
    "    def __init__(self):\n",
    "        super().__init__()\n",
    "        print(\"D's constructor\")\n",
    "\n",
    "d = D()\n",
    "d.hello()"
   ]
  },
  {
   "cell_type": "markdown",
   "id": "49702c4e-3a60-4ac5-96e7-e60ac105f278",
   "metadata": {},
   "source": [
    "14. Write a class method that keeps track of the number of instances created from a class."
   ]
  },
  {
   "cell_type": "code",
   "execution_count": 21,
   "id": "dca1ca51-c321-4a1d-ac6b-68710c0e89c8",
   "metadata": {},
   "outputs": [
    {
     "name": "stdout",
     "output_type": "stream",
     "text": [
      "3\n"
     ]
    }
   ],
   "source": [
    "class InstanceCounter:\n",
    "    instance_count = 0\n",
    "\n",
    "    def __init__(self):\n",
    "        InstanceCounter.instance_count += 1\n",
    "\n",
    "    @classmethod\n",
    "    def get_instance_count(cls):\n",
    "        return cls.instance_count\n",
    "\n",
    "# Ex:\n",
    "obj1 = InstanceCounter()\n",
    "obj2 = InstanceCounter()\n",
    "obj3 = InstanceCounter()\n",
    "\n",
    "print(InstanceCounter.get_instance_count()) "
   ]
  },
  {
   "cell_type": "markdown",
   "id": "6b44308c-da18-45c7-9d5c-28d03a01cec1",
   "metadata": {},
   "source": [
    " 15. Implement a static method in a class that checks if a given year is a leap year."
   ]
  },
  {
   "cell_type": "code",
   "execution_count": 22,
   "id": "59b155ee-41e9-4314-8679-a791ca5c7b90",
   "metadata": {},
   "outputs": [
    {
     "name": "stdout",
     "output_type": "stream",
     "text": [
      "True\n",
      "False\n",
      "False\n",
      "True\n"
     ]
    }
   ],
   "source": [
    "class DateUtils:\n",
    "    @staticmethod\n",
    "    def is_leap_year(year):\n",
    "        if (year % 4 == 0 and year % 100 != 0) or (year % 400 == 0):\n",
    "            return True\n",
    "        return False\n",
    "\n",
    "# Ex:\n",
    "print(DateUtils.is_leap_year(2020))  \n",
    "print(DateUtils.is_leap_year(2021))  \n",
    "print(DateUtils.is_leap_year(1900))  \n",
    "print(DateUtils.is_leap_year(2000))  "
   ]
  },
  {
   "cell_type": "code",
   "execution_count": null,
   "id": "4a6fab3a-111f-4c27-8d73-e75a021c7aa1",
   "metadata": {},
   "outputs": [],
   "source": []
  }
 ],
 "metadata": {
  "kernelspec": {
   "display_name": "Python 3 (ipykernel)",
   "language": "python",
   "name": "python3"
  },
  "language_info": {
   "codemirror_mode": {
    "name": "ipython",
    "version": 3
   },
   "file_extension": ".py",
   "mimetype": "text/x-python",
   "name": "python",
   "nbconvert_exporter": "python",
   "pygments_lexer": "ipython3",
   "version": "3.10.8"
  }
 },
 "nbformat": 4,
 "nbformat_minor": 5
}
